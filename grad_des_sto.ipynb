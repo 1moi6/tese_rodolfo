{
 "cells": [
  {
   "cell_type": "code",
   "execution_count": null,
   "metadata": {},
   "outputs": [],
   "source": [
    "import numpy as np\n",
    "\n",
    "def custo(y_real,y_predito):\n",
    "    sq = 0\n",
    "    for yr,yp in zip(y_real,y_predito):\n",
    "        sq = sq+(yr-yp)**2\n",
    "    return sq \n",
    "\n",
    "def modelo(x,parametros):\n"
   ]
  }
 ],
 "metadata": {
  "kernelspec": {
   "display_name": "basico",
   "language": "python",
   "name": "python3"
  },
  "language_info": {
   "name": "python",
   "version": "3.10.8 (main, Nov 24 2022, 08:09:04) [Clang 14.0.6 ]"
  },
  "orig_nbformat": 4,
  "vscode": {
   "interpreter": {
    "hash": "574e93fb58bda07035505f46e2c46eff280992c7276cddd05cbfe2fed6edb448"
   }
  }
 },
 "nbformat": 4,
 "nbformat_minor": 2
}
