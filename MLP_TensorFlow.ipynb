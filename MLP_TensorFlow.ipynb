{
 "cells": [
  {
   "cell_type": "code",
   "execution_count": 60,
   "metadata": {},
   "outputs": [],
   "source": [
    "import tensorflow as tf\n",
    "from tensorflow import keras\n",
    "import numpy as np\n",
    "from sklearn import preprocessing\n",
    "from sklearn.model_selection import train_test_split\n",
    "import pandas as pd\n",
    "from sklearn.metrics import confusion_matrix, roc_curve\n",
    "\n",
    "original = pd.read_csv(\"dados.csv\")\n",
    "le = preprocessing.LabelEncoder()\n",
    "\n",
    "modificado = pd.DataFrame()\n",
    "for x in original:\n",
    "    if original[x].dtypes==object:\n",
    "        modificado[x] = le.fit_transform(np.array(original[x]))\n",
    "    else:\n",
    "        modificado[x] = np.array(original[x])\n",
    "\n",
    "\n",
    "y = modificado.COMPARECEU_AGENDAMENTO_EXAME\n",
    "X = modificado.drop('COMPARECEU_AGENDAMENTO_EXAME', axis=1)\n",
    "\n",
    "Xd,y = np.array(X), 1-np.array(y)\n",
    "X = (Xd-Xd.min(axis=0))/(Xd.max(axis=0)-Xd.min(axis=0))\n",
    "\n",
    "X_train, X_test, y_train, y_test = train_test_split(X,  y, test_size=0.25)"
   ]
  },
  {
   "cell_type": "code",
   "execution_count": 61,
   "metadata": {},
   "outputs": [
    {
     "name": "stdout",
     "output_type": "stream",
     "text": [
      "Epoch 1/50\n",
      "197/197 [==============================] - 2s 3ms/step - loss: 0.2971 - binary_accuracy: 0.3785\n",
      "Epoch 2/50\n",
      "197/197 [==============================] - 1s 4ms/step - loss: 0.2459 - binary_accuracy: 0.6402\n",
      "Epoch 3/50\n",
      "197/197 [==============================] - 1s 4ms/step - loss: 0.2436 - binary_accuracy: 0.6890\n",
      "Epoch 4/50\n",
      "197/197 [==============================] - 1s 3ms/step - loss: 0.2419 - binary_accuracy: 0.6931\n",
      "Epoch 5/50\n",
      "197/197 [==============================] - 1s 4ms/step - loss: 0.2408 - binary_accuracy: 0.6239\n",
      "Epoch 6/50\n",
      "197/197 [==============================] - 1s 3ms/step - loss: 0.2404 - binary_accuracy: 0.6903\n",
      "Epoch 7/50\n",
      "197/197 [==============================] - 1s 3ms/step - loss: 0.2395 - binary_accuracy: 0.6761\n",
      "Epoch 8/50\n",
      "197/197 [==============================] - 1s 3ms/step - loss: 0.2383 - binary_accuracy: 0.6648\n",
      "Epoch 9/50\n",
      "197/197 [==============================] - 1s 3ms/step - loss: 0.2380 - binary_accuracy: 0.6623\n",
      "Epoch 10/50\n",
      "197/197 [==============================] - 1s 4ms/step - loss: 0.2382 - binary_accuracy: 0.6876\n",
      "Epoch 11/50\n",
      "197/197 [==============================] - 1s 4ms/step - loss: 0.2379 - binary_accuracy: 0.6817\n",
      "Epoch 12/50\n",
      "197/197 [==============================] - 1s 3ms/step - loss: 0.2379 - binary_accuracy: 0.6664\n",
      "Epoch 13/50\n",
      "197/197 [==============================] - 1s 5ms/step - loss: 0.2375 - binary_accuracy: 0.6893\n",
      "Epoch 14/50\n",
      "197/197 [==============================] - 1s 4ms/step - loss: 0.2370 - binary_accuracy: 0.6887\n",
      "Epoch 15/50\n",
      "197/197 [==============================] - 1s 5ms/step - loss: 0.2370 - binary_accuracy: 0.6981\n",
      "Epoch 16/50\n",
      "197/197 [==============================] - 1s 4ms/step - loss: 0.2372 - binary_accuracy: 0.6669\n",
      "Epoch 17/50\n",
      "197/197 [==============================] - 1s 4ms/step - loss: 0.2368 - binary_accuracy: 0.6815\n",
      "Epoch 18/50\n",
      "197/197 [==============================] - 1s 3ms/step - loss: 0.2364 - binary_accuracy: 0.6892\n",
      "Epoch 19/50\n",
      "197/197 [==============================] - 1s 4ms/step - loss: 0.2363 - binary_accuracy: 0.7063\n",
      "Epoch 20/50\n",
      "197/197 [==============================] - 1s 3ms/step - loss: 0.2358 - binary_accuracy: 0.6969\n",
      "Epoch 21/50\n",
      "197/197 [==============================] - 1s 3ms/step - loss: 0.2362 - binary_accuracy: 0.6858\n",
      "Epoch 22/50\n",
      "197/197 [==============================] - 1s 4ms/step - loss: 0.2361 - binary_accuracy: 0.6906\n",
      "Epoch 23/50\n",
      "197/197 [==============================] - 1s 3ms/step - loss: 0.2355 - binary_accuracy: 0.7066\n",
      "Epoch 24/50\n",
      "197/197 [==============================] - 1s 3ms/step - loss: 0.2358 - binary_accuracy: 0.6930\n",
      "Epoch 25/50\n",
      "197/197 [==============================] - 1s 3ms/step - loss: 0.2355 - binary_accuracy: 0.7004\n",
      "Epoch 26/50\n",
      "197/197 [==============================] - 1s 3ms/step - loss: 0.2352 - binary_accuracy: 0.6849\n",
      "Epoch 27/50\n",
      "197/197 [==============================] - 1s 4ms/step - loss: 0.2355 - binary_accuracy: 0.7146\n",
      "Epoch 28/50\n",
      "197/197 [==============================] - 1s 3ms/step - loss: 0.2358 - binary_accuracy: 0.6853\n",
      "Epoch 29/50\n",
      "197/197 [==============================] - 0s 2ms/step - loss: 0.2350 - binary_accuracy: 0.6982\n",
      "Epoch 30/50\n",
      "197/197 [==============================] - 1s 3ms/step - loss: 0.2353 - binary_accuracy: 0.7103\n",
      "Epoch 31/50\n",
      "197/197 [==============================] - 1s 3ms/step - loss: 0.2350 - binary_accuracy: 0.7074\n",
      "Epoch 32/50\n",
      "197/197 [==============================] - 1s 4ms/step - loss: 0.2344 - binary_accuracy: 0.6895\n",
      "Epoch 33/50\n",
      "197/197 [==============================] - 1s 4ms/step - loss: 0.2349 - binary_accuracy: 0.7203\n",
      "Epoch 34/50\n",
      "197/197 [==============================] - 1s 3ms/step - loss: 0.2347 - binary_accuracy: 0.7049\n",
      "Epoch 35/50\n",
      "197/197 [==============================] - 1s 3ms/step - loss: 0.2348 - binary_accuracy: 0.7079\n",
      "Epoch 36/50\n",
      "197/197 [==============================] - 1s 4ms/step - loss: 0.2348 - binary_accuracy: 0.7071\n",
      "Epoch 37/50\n",
      "197/197 [==============================] - 1s 3ms/step - loss: 0.2344 - binary_accuracy: 0.6973\n",
      "Epoch 38/50\n",
      "197/197 [==============================] - 1s 3ms/step - loss: 0.2345 - binary_accuracy: 0.7192\n",
      "Epoch 39/50\n",
      "197/197 [==============================] - 1s 3ms/step - loss: 0.2340 - binary_accuracy: 0.7068\n",
      "Epoch 40/50\n",
      "197/197 [==============================] - 1s 3ms/step - loss: 0.2346 - binary_accuracy: 0.7299\n",
      "Epoch 41/50\n",
      "197/197 [==============================] - 1s 5ms/step - loss: 0.2343 - binary_accuracy: 0.7087\n",
      "Epoch 42/50\n",
      "197/197 [==============================] - 1s 3ms/step - loss: 0.2336 - binary_accuracy: 0.6958\n",
      "Epoch 43/50\n",
      "197/197 [==============================] - 0s 2ms/step - loss: 0.2344 - binary_accuracy: 0.7378\n",
      "Epoch 44/50\n",
      "197/197 [==============================] - 0s 3ms/step - loss: 0.2340 - binary_accuracy: 0.7057\n",
      "Epoch 45/50\n",
      "197/197 [==============================] - 1s 3ms/step - loss: 0.2342 - binary_accuracy: 0.7283\n",
      "Epoch 46/50\n",
      "197/197 [==============================] - 1s 3ms/step - loss: 0.2341 - binary_accuracy: 0.7130\n",
      "Epoch 47/50\n",
      "197/197 [==============================] - 1s 3ms/step - loss: 0.2341 - binary_accuracy: 0.7205\n",
      "Epoch 48/50\n",
      "197/197 [==============================] - 1s 3ms/step - loss: 0.2340 - binary_accuracy: 0.7243\n",
      "Epoch 49/50\n",
      "197/197 [==============================] - 1s 3ms/step - loss: 0.2340 - binary_accuracy: 0.7249\n",
      "Epoch 50/50\n",
      "197/197 [==============================] - 1s 3ms/step - loss: 0.2335 - binary_accuracy: 0.7129\n"
     ]
    },
    {
     "data": {
      "text/plain": [
       "<keras.callbacks.History at 0x7fad5bb42f20>"
      ]
     },
     "execution_count": 61,
     "metadata": {},
     "output_type": "execute_result"
    }
   ],
   "source": [
    "mdl = keras.models.Sequential()\n",
    "mdl.add(keras.Input(shape=(17,)))\n",
    "mdl.add(keras.layers.Dense(10,activation='elu'))\n",
    "mdl.add(keras.layers.Dense(5,activation='elu'))\n",
    "mdl.add(keras.layers.Dense(2,activation='elu'))\n",
    "mdl.add(keras.layers.Dense(1,activation='sigmoid'))\n",
    "\n",
    "mdl.compile(\n",
    "    optimizer='Adam',\n",
    "    loss = \"BinaryCrossentropy\",\n",
    "    metrics = tf.keras.metrics.BinaryAccuracy(\n",
    "    name=\"binary_accuracy\", dtype=None, threshold=0.075\n",
    "))\n",
    "\n",
    "mdl.fit(X_train,y_train,epochs=50)"
   ]
  },
  {
   "cell_type": "code",
   "execution_count": 65,
   "metadata": {},
   "outputs": [
    {
     "name": "stdout",
     "output_type": "stream",
     "text": [
      "66/66 [==============================] - 0s 3ms/step\n"
     ]
    },
    {
     "data": {
      "text/plain": [
       "array([[0.61668373, 0.38331627],\n",
       "       [0.42957746, 0.57042254]])"
      ]
     },
     "execution_count": 65,
     "metadata": {},
     "output_type": "execute_result"
    }
   ],
   "source": [
    "y_pred = mdl.predict(X_test).ravel()\n",
    "confusion_matrix(y_test,(y_pred>.06).astype(int),normalize=\"true\")"
   ]
  },
  {
   "cell_type": "code",
   "execution_count": 40,
   "metadata": {},
   "outputs": [
    {
     "data": {
      "text/plain": [
       "array([0, 0, 0, ..., 0, 0, 0])"
      ]
     },
     "execution_count": 40,
     "metadata": {},
     "output_type": "execute_result"
    }
   ],
   "source": [
    "roc_curve()"
   ]
  }
 ],
 "metadata": {
  "kernelspec": {
   "display_name": "basico",
   "language": "python",
   "name": "python3"
  },
  "language_info": {
   "codemirror_mode": {
    "name": "ipython",
    "version": 3
   },
   "file_extension": ".py",
   "mimetype": "text/x-python",
   "name": "python",
   "nbconvert_exporter": "python",
   "pygments_lexer": "ipython3",
   "version": "3.10.8"
  },
  "orig_nbformat": 4
 },
 "nbformat": 4,
 "nbformat_minor": 2
}
