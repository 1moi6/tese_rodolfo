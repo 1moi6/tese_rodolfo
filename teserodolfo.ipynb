{
 "cells": [
  {
   "cell_type": "code",
   "execution_count": 1,
   "metadata": {},
   "outputs": [],
   "source": [
    "import pandas as pd\n",
    "import numpy as np\n",
    "\n",
    "from sklearn import preprocessing\n",
    "\n",
    "from sklearn import tree\n",
    "from sklearn.neural_network import MLPClassifier\n",
    "from sklearn.svm import NuSVC\n",
    "from sklearn.ensemble import RandomForestClassifier\n",
    "\n",
    "from sklearn.metrics import confusion_matrix, roc_curve, f1_score, classification_report \n",
    "from sklearn.pipeline import make_pipeline\n",
    "from sklearn.model_selection import train_test_split\n",
    "from sklearn.inspection import DecisionBoundaryDisplay\n",
    "\n",
    "original = pd.read_csv(\"dados.csv\")"
   ]
  },
  {
   "cell_type": "code",
   "execution_count": null,
   "metadata": {},
   "outputs": [],
   "source": [
    "le = preprocessing.LabelEncoder()\n",
    "\n",
    "modificado = pd.DataFrame()\n",
    "for x in original:\n",
    "    if original[x].dtypes==object:\n",
    "        modificado[x] = le.fit_transform(np.array(original[x]))\n",
    "    else:\n",
    "        modificado[x] = np.array(original[x])\n",
    "\n",
    "clm = list(modificado.columns)\n",
    "X = np.array(modificado[clm[0:-1]])\n",
    "y = np.array(modificado[clm[-1]])\n",
    "X_train,X_test,y_train,y_test = train_test_split(X,y,test_size=0.2, random_state=42)\n",
    "\n",
    "escala = preprocessing.MinMaxScaler(feature_range=(0, 1))\n",
    "clfNN = MLPClassifier(hidden_layer_sizes=(3, 10,10,10), alpha=1e-5,verbose=True, learning_rate=\"adaptive\",max_iter=500)\n",
    "clasNN = make_pipeline(escala, clfNN)\n",
    "clasNN.fit(X_train,y_train)\n",
    "clasNN.score(X_test,y_test)\n",
    "yp = clasNN.predict(X_test)"
   ]
  },
  {
   "cell_type": "code",
   "execution_count": null,
   "metadata": {},
   "outputs": [],
   "source": [
    "from sklearn.utils import resample\n",
    "\n",
    "le = preprocessing.LabelEncoder()\n",
    "\n",
    "modificado = pd.DataFrame()\n",
    "for x in original:\n",
    "    if original[x].dtypes==object:\n",
    "        modificado[x] = le.fit_transform(np.array(original[x]))\n",
    "    else:\n",
    "        modificado[x] = np.array(original[x])\n",
    "\n",
    "\n",
    "y = modificado.COMPARECEU_AGENDAMENTO_EXAME\n",
    "X = modificado.drop('COMPARECEU_AGENDAMENTO_EXAME', axis=1)\n",
    "X_train, X_test, y_train, y_test = train_test_split(X, y, test_size=0.25, random_state=42)\n",
    "X = pd.concat([X_train, y_train], axis=1)\n",
    "NAO = X[X.COMPARECEU_AGENDAMENTO_EXAME==0]\n",
    "SIM = X[X.COMPARECEU_AGENDAMENTO_EXAME==1]\n",
    "\n",
    "NAO_upsampled = resample(NAO,\n",
    "                          replace=True, # sample with replacement\n",
    "                          n_samples=len(SIM), # match number in majority class\n",
    "                          random_state=42)\n",
    "\n",
    "upsampled = pd.concat([SIM, NAO_upsampled])\n",
    "upsampled.COMPARECEU_AGENDAMENTO_EXAME.value_counts()\n",
    "\n",
    "y_train_md = np.array(upsampled.COMPARECEU_AGENDAMENTO_EXAME)\n",
    "X_train_md = np.array(upsampled.drop('COMPARECEU_AGENDAMENTO_EXAME', axis=1))\n",
    "\n",
    "\n",
    "escala = preprocessing.MinMaxScaler(feature_range=(0, 1))\n",
    "clfNN = MLPClassifier(hidden_layer_sizes=(3, 10,10,10), alpha=1e-5,verbose=True, learning_rate=\"adaptive\",max_iter=500)\n",
    "clasNN = make_pipeline(escala, clfNN)\n",
    "clasNN.fit(X_train_md,y_train_md)\n",
    "clasNN.score(np.array(X_test),np.array(y_test))\n",
    "yp = clasNN.predict(np.array(X_test))"
   ]
  },
  {
   "cell_type": "code",
   "execution_count": null,
   "metadata": {},
   "outputs": [],
   "source": [
    "yp = clasNN.predict(np.array(X_test))\n",
    "f1 = f1_score(yp,np.array(y_test))\n",
    "target_names = ['class 0', 'class 1']\n",
    "print(classification_report(y_true=y_test,y_pred=yp,target_names=target_names))"
   ]
  },
  {
   "cell_type": "code",
   "execution_count": null,
   "metadata": {},
   "outputs": [],
   "source": [
    "from sklearn.utils import resample\n",
    "\n",
    "le = preprocessing.LabelEncoder()\n",
    "\n",
    "modificado = pd.DataFrame()\n",
    "for x in original:\n",
    "    if original[x].dtypes==object:\n",
    "        modificado[x] = le.fit_transform(np.array(original[x]))\n",
    "    else:\n",
    "        modificado[x] = np.array(original[x])\n",
    "\n",
    "\n",
    "y = modificado.COMPARECEU_AGENDAMENTO_EXAME\n",
    "X = modificado.drop('COMPARECEU_AGENDAMENTO_EXAME', axis=1)\n",
    "X_train, X_test, y_train, y_test = train_test_split(X, y, test_size=0.25, random_state=42)\n",
    "X = pd.concat([X_train, y_train], axis=1)\n",
    "NAO = X[X.COMPARECEU_AGENDAMENTO_EXAME==0]\n",
    "SIM = X[X.COMPARECEU_AGENDAMENTO_EXAME==1]\n",
    "\n",
    "SIM_upsampled = resample(SIM,\n",
    "                          replace=False, # sample with replacement\n",
    "                          n_samples=len(NAO), # match number in majority class\n",
    "                          random_state=42)\n",
    "\n",
    "upsampled = pd.concat([SIM_upsampled, NAO])\n",
    "upsampled.COMPARECEU_AGENDAMENTO_EXAME.value_counts()\n",
    "\n",
    "y_train_md = np.array(upsampled.COMPARECEU_AGENDAMENTO_EXAME)\n",
    "X_train_md = np.array(upsampled.drop('COMPARECEU_AGENDAMENTO_EXAME', axis=1))\n",
    "\n",
    "escala = preprocessing.MinMaxScaler(feature_range=(0, 1))\n",
    "clfNN = MLPClassifier(hidden_layer_sizes=(3, 10,10,10), alpha=1e-5,verbose=True, learning_rate=\"adaptive\",max_iter=500)\n",
    "clasNN = make_pipeline(escala, clfNN)\n",
    "clasNN.fit(X_train_md,y_train_md)\n",
    "clasNN.score(np.array(X_test),np.array(y_test))\n",
    "yp = clasNN.predict(np.array(X_test))\n"
   ]
  },
  {
   "cell_type": "code",
   "execution_count": null,
   "metadata": {},
   "outputs": [],
   "source": [
    "yp = clasNN.predict(np.array(X_test))\n",
    "f1 = f1_score(yp,np.array(y_test))\n",
    "target_names = ['class 0', 'class 1']\n",
    "print(classification_report(y_true=y_test,y_pred=yp,target_names=target_names))"
   ]
  },
  {
   "cell_type": "code",
   "execution_count": 3,
   "metadata": {},
   "outputs": [],
   "source": [
    "le = preprocessing.LabelEncoder()\n",
    "\n",
    "modificado = pd.DataFrame()\n",
    "for x in original:\n",
    "    if original[x].dtypes==object:\n",
    "        modificado[x] = le.fit_transform(np.array(original[x]))\n",
    "    else:\n",
    "        modificado[x] = np.array(original[x])\n",
    "\n",
    "clm = list(modificado.columns)\n",
    "X = np.array(modificado[clm[0:-1]])\n",
    "y = np.array(modificado[clm[-1]])\n",
    "X_train,X_test,y_train,y_test = train_test_split(X,y,test_size=0.2, random_state=42)\n",
    "\n",
    "# escala = preprocessing.MinMaxScaler(feature_range=(0, 1))\n",
    "clfRF= RandomForestClassifier(n_estimators=10,verbose=False)\n",
    "clasRF = clfRF\n",
    "clasRF.fit(X_train,y_train)\n",
    "clasRF.score(X_test,y_test)\n",
    "yp = clasRF.predict(X_test)"
   ]
  },
  {
   "cell_type": "code",
   "execution_count": 5,
   "metadata": {},
   "outputs": [
    {
     "name": "stdout",
     "output_type": "stream",
     "text": [
      "              precision    recall  f1-score   support\n",
      "\n",
      "     class 0       0.07      0.01      0.02       106\n",
      "     class 1       0.94      0.99      0.96      1571\n",
      "\n",
      "    accuracy                           0.93      1677\n",
      "   macro avg       0.50      0.50      0.49      1677\n",
      "weighted avg       0.88      0.93      0.90      1677\n",
      "\n"
     ]
    }
   ],
   "source": [
    "target_names = ['class 0', 'class 1']\n",
    "print(classification_report(y_true=y_test,y_pred=yp,target_names=target_names))"
   ]
  },
  {
   "cell_type": "code",
   "execution_count": 7,
   "metadata": {},
   "outputs": [
    {
     "name": "stdout",
     "output_type": "stream",
     "text": [
      "      real  predito\n",
      "24       0        1\n",
      "49       0        1\n",
      "86       0        1\n",
      "137      0        1\n",
      "140      0        1\n",
      "...    ...      ...\n",
      "1608     0        1\n",
      "1639     0        1\n",
      "1651     0        1\n",
      "1655     0        1\n",
      "1667     0        1\n",
      "\n",
      "[106 rows x 2 columns]\n"
     ]
    }
   ],
   "source": [
    "res = pd.DataFrame()\n",
    "res[\"real\"] = y_test\n",
    "res[\"predito\"] = yp\n",
    "print(res[res[\"real\"]==0])"
   ]
  },
  {
   "cell_type": "code",
   "execution_count": 9,
   "metadata": {},
   "outputs": [
    {
     "data": {
      "text/plain": [
       "array([[   1,  105],\n",
       "       [  14, 1557]])"
      ]
     },
     "execution_count": 9,
     "metadata": {},
     "output_type": "execute_result"
    }
   ],
   "source": [
    "confusion_matrix(y_test,yp)"
   ]
  }
 ],
 "metadata": {
  "kernelspec": {
   "display_name": "basico",
   "language": "python",
   "name": "python3"
  },
  "language_info": {
   "codemirror_mode": {
    "name": "ipython",
    "version": 3
   },
   "file_extension": ".py",
   "mimetype": "text/x-python",
   "name": "python",
   "nbconvert_exporter": "python",
   "pygments_lexer": "ipython3",
   "version": "3.10.8"
  },
  "orig_nbformat": 4,
  "vscode": {
   "interpreter": {
    "hash": "c465bf73b49a10f80478bca24b58099e5ba305018ffe2f60e88c492037de4269"
   }
  }
 },
 "nbformat": 4,
 "nbformat_minor": 2
}
