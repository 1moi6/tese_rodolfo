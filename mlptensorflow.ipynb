{
 "cells": [
  {
   "cell_type": "code",
   "execution_count": 2,
   "metadata": {},
   "outputs": [],
   "source": [
    "import tensorflow as tf\n",
    "from tensorflow import keras"
   ]
  },
  {
   "cell_type": "code",
   "execution_count": 120,
   "metadata": {},
   "outputs": [
    {
     "data": {
      "text/plain": [
       "<tf.Tensor: shape=(2,), dtype=float32, numpy=array([17., 86.], dtype=float32)>"
      ]
     },
     "execution_count": 120,
     "metadata": {},
     "output_type": "execute_result"
    }
   ],
   "source": [
    "x = tf.Variable([2.,5.])\n",
    "y = []\n",
    "with tf.GradientTape(persistent=True) as g:\n",
    "    g.watch(x)\n",
    "    for i in range(4):\n",
    "        y.append(x[0]**i+x[1]**i)\n",
    "    z = tf.reduce_mean(y)\n",
    "g.gradient(z,x)\n",
    "g.gradient(y,x)"
   ]
  },
  {
   "cell_type": "code",
   "execution_count": 116,
   "metadata": {},
   "outputs": [
    {
     "data": {
      "text/plain": [
       "<tf.Tensor: shape=(), dtype=float32, numpy=29.0>"
      ]
     },
     "execution_count": 116,
     "metadata": {},
     "output_type": "execute_result"
    }
   ],
   "source": [
    "y[2]"
   ]
  },
  {
   "cell_type": "code",
   "execution_count": 144,
   "metadata": {},
   "outputs": [],
   "source": [
    "x = tf.Variable([2.,5.])\n",
    "loss = lambda: x[0]**2+x[1]**2\n",
    "opt = tf.keras.optimizers.experimental.SGD(learning_rate=0.1)\n",
    "# loss = lambda:y[2]\n",
    "# grads = g.gradient(y[2], x)\n",
    "# opt.apply_gradients(zip(grads, x))\n",
    "opt.minimize(loss, var_list=[x])"
   ]
  },
  {
   "cell_type": "code",
   "execution_count": 161,
   "metadata": {},
   "outputs": [
    {
     "name": "stdout",
     "output_type": "stream",
     "text": [
      "Step 0: value = 26.0\n",
      "Step 1: value = 0.25999999046325684\n",
      "Step 2: value = 0.00260000117123127\n",
      "Step 3: value = 2.6000028810813092e-05\n",
      "Step 4: value = 2.6000057573583035e-07\n",
      "Step 5: value = 2.6000064323739025e-09\n",
      "Step 6: value = 2.6000094438538568e-11\n",
      "Step 7: value = 2.600011406259789e-13\n",
      "Step 8: value = 2.600012947859753e-15\n",
      "Step 9: value = 2.6000151117642354e-17\n",
      "Step 10: value = 2.6000142639041076e-19\n",
      "Step 11: value = 2.600014861671347e-21\n",
      "Step 12: value = 2.600014861671347e-23\n",
      "Step 13: value = 2.6000157787221494e-25\n",
      "Step 14: value = 2.600015824944468e-27\n",
      "Step 15: value = 2.600015656425598e-29\n",
      "Step 16: value = 2.600014828877575e-31\n",
      "Step 17: value = 2.600014975814369e-33\n",
      "Step 18: value = 2.6000164337028703e-35\n",
      "Step 19: value = 2.500017353844905e-37\n",
      "Step 20: value = 0.0\n",
      "Step 21: value = 0.0\n",
      "Step 22: value = 0.0\n",
      "Step 23: value = 0.0\n",
      "Step 24: value = 0.0\n",
      "Step 25: value = 0.0\n",
      "Step 26: value = 0.0\n",
      "Step 27: value = 0.0\n",
      "Step 28: value = 0.0\n",
      "Step 29: value = 0.0\n",
      "Step 30: value = 0.0\n",
      "Step 31: value = 0.0\n",
      "Step 32: value = 0.0\n",
      "Step 33: value = 0.0\n",
      "Step 34: value = 0.0\n",
      "Step 35: value = 0.0\n",
      "Step 36: value = 0.0\n",
      "Step 37: value = 0.0\n",
      "Step 38: value = 0.0\n",
      "Step 39: value = 0.0\n",
      "Step 40: value = 0.0\n",
      "Step 41: value = 0.0\n",
      "Step 42: value = 0.0\n",
      "Step 43: value = 0.0\n",
      "Step 44: value = 0.0\n",
      "Step 45: value = 0.0\n",
      "Step 46: value = 0.0\n",
      "Step 47: value = 0.0\n",
      "Step 48: value = 0.0\n",
      "Step 49: value = 0.0\n",
      "Step 50: value = 0.0\n",
      "Step 51: value = 0.0\n",
      "Step 52: value = 0.0\n",
      "Step 53: value = 0.0\n",
      "Step 54: value = 0.0\n",
      "Step 55: value = 0.0\n",
      "Step 56: value = 0.0\n",
      "Step 57: value = 0.0\n",
      "Step 58: value = 0.0\n",
      "Step 59: value = 0.0\n",
      "Step 60: value = 0.0\n",
      "Step 61: value = 0.0\n",
      "Step 62: value = 0.0\n",
      "Step 63: value = 0.0\n",
      "Step 64: value = 0.0\n",
      "Step 65: value = 0.0\n",
      "Step 66: value = 0.0\n",
      "Step 67: value = 0.0\n",
      "Step 68: value = 0.0\n",
      "Step 69: value = 0.0\n",
      "Step 70: value = 0.0\n",
      "Step 71: value = 0.0\n",
      "Step 72: value = 0.0\n",
      "Step 73: value = 0.0\n",
      "Step 74: value = 0.0\n",
      "Step 75: value = 0.0\n",
      "Step 76: value = 0.0\n",
      "Step 77: value = 0.0\n",
      "Step 78: value = 0.0\n",
      "Step 79: value = 0.0\n",
      "Step 80: value = 0.0\n",
      "Step 81: value = 0.0\n",
      "Step 82: value = 0.0\n",
      "Step 83: value = 0.0\n",
      "Step 84: value = 0.0\n",
      "Step 85: value = 0.0\n",
      "Step 86: value = 0.0\n",
      "Step 87: value = 0.0\n",
      "Step 88: value = 0.0\n",
      "Step 89: value = 0.0\n",
      "Step 90: value = 0.0\n",
      "Step 91: value = 0.0\n",
      "Step 92: value = 0.0\n",
      "Step 93: value = 0.0\n",
      "Step 94: value = 0.0\n",
      "Step 95: value = 0.0\n",
      "Step 96: value = 0.0\n",
      "Step 97: value = 0.0\n",
      "Step 98: value = 0.0\n",
      "Step 99: value = 0.0\n"
     ]
    }
   ],
   "source": [
    "def objetivo(x):\n",
    "    return x[0]**2 + x[1]**2\n",
    "\n",
    "initial_guess = [5.0, 1.0]\n",
    "optimizer = keras.optimizers.SGD(learning_rate=.45)\n",
    "params = tf.Variable(initial_guess)\n",
    "\n",
    "@tf.function\n",
    "def value_and_grad(params):\n",
    "    with tf.GradientTape() as tape:\n",
    "        value = objetivo(params)\n",
    "    grad = tape.gradient(value, params)\n",
    "    return value, grad\n",
    "\n",
    "for i in range(100):\n",
    "    value, grad = value_and_grad(params)\n",
    "    optimizer.apply_gradients(zip([grad], [params]))\n",
    "    print(\"Step {}: value = {}\".format(i, value.numpy()))"
   ]
  },
  {
   "cell_type": "code",
   "execution_count": null,
   "metadata": {},
   "outputs": [],
   "source": []
  }
 ],
 "metadata": {
  "kernelspec": {
   "display_name": "basico",
   "language": "python",
   "name": "python3"
  },
  "language_info": {
   "codemirror_mode": {
    "name": "ipython",
    "version": 3
   },
   "file_extension": ".py",
   "mimetype": "text/x-python",
   "name": "python",
   "nbconvert_exporter": "python",
   "pygments_lexer": "ipython3",
   "version": "3.10.8"
  },
  "orig_nbformat": 4
 },
 "nbformat": 4,
 "nbformat_minor": 2
}
