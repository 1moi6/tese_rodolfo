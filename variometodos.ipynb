{
 "cells": [
  {
   "cell_type": "code",
   "execution_count": 1,
   "metadata": {},
   "outputs": [],
   "source": [
    "# Carregando pacotes\n",
    "import pandas as pd\n",
    "import numpy as np\n",
    "\n",
    "from sklearn import preprocessing\n",
    "\n",
    "from sklearn.tree import DecisionTreeClassifier\n",
    "from sklearn.neural_network import MLPClassifier\n",
    "from sklearn.svm import NuSVC\n",
    "from sklearn.ensemble import RandomForestClassifier, AdaBoostClassifier\n",
    "from sklearn.neighbors import KNeighborsClassifier\n",
    "\n",
    "from sklearn.gaussian_process import GaussianProcessClassifier\n",
    "from sklearn.gaussian_process.kernels import RBF\n",
    "from sklearn.naive_bayes import GaussianNB\n",
    "from sklearn.discriminant_analysis import QuadraticDiscriminantAnalysis\n",
    "\n",
    "from sklearn.metrics import confusion_matrix, roc_curve, accuracy_score, balanced_accuracy_score\n",
    "from sklearn.pipeline import make_pipeline\n",
    "from sklearn.model_selection import train_test_split\n",
    "from sklearn.inspection import DecisionBoundaryDisplay\n",
    "\n",
    "import matplotlib.pyplot as plt\n",
    "from matplotlib.colors import ListedColormap\n",
    "import seaborn as sns\n",
    "from IPython.display import HTML\n",
    "\n",
    "from sklearn.experimental import enable_halving_search_cv\n",
    "from sklearn.model_selection import HalvingRandomSearchCV"
   ]
  },
  {
   "cell_type": "code",
   "execution_count": 2,
   "metadata": {},
   "outputs": [],
   "source": [
    "# Carregando dados\n",
    "original = pd.read_csv(\"dados.csv\")\n",
    "le = preprocessing.LabelEncoder()\n",
    "\n",
    "modificado = pd.DataFrame()\n",
    "for x in original:\n",
    "    if original[x].dtypes==object:\n",
    "        modificado[x] = le.fit_transform(np.array(original[x]))\n",
    "    else:\n",
    "        modificado[x] = np.array(original[x])\n",
    "\n",
    "\n",
    "y = modificado.COMPARECEU_AGENDAMENTO_EXAME\n",
    "X = modificado.drop('COMPARECEU_AGENDAMENTO_EXAME', axis=1)\n",
    "\n",
    "Xd,y = np.array(X), 1-np.array(y)\n",
    "X = (Xd-Xd.min(axis=0))/(Xd.max(axis=0)-Xd.min(axis=0))"
   ]
  },
  {
   "cell_type": "code",
   "execution_count": 3,
   "metadata": {},
   "outputs": [],
   "source": [
    "classificadores=[(\"rede neural\",MLPClassifier()),(\"VM não linear\",NuSVC(gamma=\"auto\",nu=0.12,probability=True,class_weight='balanced'))]"
   ]
  }
 ],
 "metadata": {
  "kernelspec": {
   "display_name": "basico",
   "language": "python",
   "name": "python3"
  },
  "language_info": {
   "codemirror_mode": {
    "name": "ipython",
    "version": 3
   },
   "file_extension": ".py",
   "mimetype": "text/x-python",
   "name": "python",
   "nbconvert_exporter": "python",
   "pygments_lexer": "ipython3",
   "version": "3.10.8"
  },
  "orig_nbformat": 4,
  "vscode": {
   "interpreter": {
    "hash": "c465bf73b49a10f80478bca24b58099e5ba305018ffe2f60e88c492037de4269"
   }
  }
 },
 "nbformat": 4,
 "nbformat_minor": 2
}
